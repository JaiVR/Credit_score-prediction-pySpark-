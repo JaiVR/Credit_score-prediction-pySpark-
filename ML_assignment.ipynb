{
  "nbformat": 4,
  "nbformat_minor": 0,
  "metadata": {
    "colab": {
      "provenance": [],
      "include_colab_link": true
    },
    "kernelspec": {
      "name": "python3",
      "display_name": "Python 3"
    },
    "language_info": {
      "name": "python"
    }
  },
  "cells": [
    {
      "cell_type": "markdown",
      "metadata": {
        "id": "view-in-github",
        "colab_type": "text"
      },
      "source": [
        "<a href=\"https://colab.research.google.com/github/JaiVR/Spotify_songs_Analysis/blob/main/ML_assignment.ipynb\" target=\"_parent\"><img src=\"https://colab.research.google.com/assets/colab-badge.svg\" alt=\"Open In Colab\"/></a>"
      ]
    },
    {
      "cell_type": "code",
      "source": [
        "from pyspark.sql import SparkSession\n",
        "import pyspark.sql.functions as F\n",
        "import pyspark.sql.types as T\n",
        "\n",
        "spark = SparkSession.builder.appName(\"Spotify_popularity\").getOrCreate()\n",
        "\n",
        "print(f\"Spark Version: {spark.version}\")"
      ],
      "metadata": {
        "colab": {
          "base_uri": "https://localhost:8080/"
        },
        "id": "hw7FYaFflyiz",
        "outputId": "be63b4dc-228a-4c7d-8a61-185685eca231"
      },
      "execution_count": 4,
      "outputs": [
        {
          "output_type": "stream",
          "name": "stdout",
          "text": [
            "Spark Version: 3.5.3\n"
          ]
        }
      ]
    },
    {
      "cell_type": "code",
      "source": [
        "df = spark.read.csv(\"loan_data.csv\", header=True, inferSchema=True)\n",
        "df.show()"
      ],
      "metadata": {
        "colab": {
          "base_uri": "https://localhost:8080/"
        },
        "id": "3kn7XOu-lVYB",
        "outputId": "c0784219-89e8-4a34-8c94-7e3da3173d0d"
      },
      "execution_count": 5,
      "outputs": [
        {
          "output_type": "stream",
          "name": "stdout",
          "text": [
            "+----------+-------------+----------------+-------------+--------------+---------------------+---------+-----------------+-------------+-------------------+--------------------------+------------------------------+------------+\n",
            "|person_age|person_gender|person_education|person_income|person_emp_exp|person_home_ownership|loan_amnt|      loan_intent|loan_int_rate|loan_percent_income|cb_person_cred_hist_length|previous_loan_defaults_on_file|credit_score|\n",
            "+----------+-------------+----------------+-------------+--------------+---------------------+---------+-----------------+-------------+-------------------+--------------------------+------------------------------+------------+\n",
            "|        22|       female|          Master|        71948|             0|                 RENT|    35000|         PERSONAL|        16.02|               0.49|                         3|                            No|         561|\n",
            "|        21|       female|     High School|        12282|             0|                  OWN|     1000|        EDUCATION|        11.14|               0.08|                         2|                           Yes|         504|\n",
            "|        25|       female|     High School|        12438|             3|             MORTGAGE|     5500|          MEDICAL|        12.87|               0.44|                         3|                            No|         635|\n",
            "|        23|       female|        Bachelor|        79753|             0|                 RENT|    35000|          MEDICAL|        15.23|               0.44|                         2|                            No|         675|\n",
            "|        24|         male|          Master|        66135|             1|                 RENT|    35000|          MEDICAL|        14.27|               0.53|                         4|                            No|         586|\n",
            "|        21|       female|     High School|        12951|             0|                  OWN|     2500|          VENTURE|         7.14|               0.19|                         2|                            No|         532|\n",
            "|        26|       female|        Bachelor|        93471|             1|                 RENT|    35000|        EDUCATION|        12.42|               0.37|                         3|                            No|         701|\n",
            "|        24|       female|     High School|        95550|             5|                 RENT|    35000|          MEDICAL|        11.11|               0.37|                         4|                            No|         585|\n",
            "|        24|       female|       Associate|       100684|             3|                 RENT|    35000|         PERSONAL|          8.9|               0.35|                         2|                            No|         544|\n",
            "|        21|       female|     High School|        12739|             0|                  OWN|     1600|          VENTURE|        14.74|               0.13|                         3|                            No|         640|\n",
            "|        22|       female|     High School|       102985|             0|                 RENT|    35000|          VENTURE|        10.37|               0.34|                         4|                            No|         621|\n",
            "|        21|       female|       Associate|        13113|             0|                  OWN|     4500|  HOMEIMPROVEMENT|         8.63|               0.34|                         2|                            No|         651|\n",
            "|        23|         male|        Bachelor|       114860|             3|                 RENT|    35000|          VENTURE|          7.9|                0.3|                         2|                            No|         573|\n",
            "|        26|         male|          Master|       130713|             0|                 RENT|    35000|        EDUCATION|        18.39|               0.27|                         4|                            No|         708|\n",
            "|        23|       female|       Associate|       138998|             0|                 RENT|    35000|        EDUCATION|          7.9|               0.25|                         4|                            No|         583|\n",
            "|        23|       female|          Master|       600891|             5|             MORTGAGE|    30000|DEBTCONSOLIDATION|        10.65|               0.05|                         3|                           Yes|         670|\n",
            "|        23|         male|        Bachelor|       144943|             0|                 RENT|    35000|        EDUCATION|          7.9|               0.24|                         4|                            No|         663|\n",
            "|        23|       female|     High School|       111369|             0|                 RENT|    35000|          MEDICAL|         20.0|               0.31|                         4|                            No|         694|\n",
            "|        23|         male|        Bachelor|       136628|             0|                 RENT|    35000|DEBTCONSOLIDATION|        18.25|               0.26|                         4|                            No|         709|\n",
            "|        24|       female|          Master|        14283|             1|             MORTGAGE|     1750|        EDUCATION|        10.99|               0.12|                         2|                            No|         679|\n",
            "+----------+-------------+----------------+-------------+--------------+---------------------+---------+-----------------+-------------+-------------------+--------------------------+------------------------------+------------+\n",
            "only showing top 20 rows\n",
            "\n"
          ]
        }
      ]
    },
    {
      "cell_type": "markdown",
      "source": [
        "#Preprocessing"
      ],
      "metadata": {
        "id": "e2QFXWY9nTC9"
      }
    },
    {
      "cell_type": "code",
      "source": [
        "df.printSchema()"
      ],
      "metadata": {
        "colab": {
          "base_uri": "https://localhost:8080/"
        },
        "id": "J6YWK8qndHpj",
        "outputId": "315c4b3b-d33d-4cb3-b324-b7c177e13ad0"
      },
      "execution_count": 6,
      "outputs": [
        {
          "output_type": "stream",
          "name": "stdout",
          "text": [
            "root\n",
            " |-- person_age: integer (nullable = true)\n",
            " |-- person_gender: string (nullable = true)\n",
            " |-- person_education: string (nullable = true)\n",
            " |-- person_income: integer (nullable = true)\n",
            " |-- person_emp_exp: integer (nullable = true)\n",
            " |-- person_home_ownership: string (nullable = true)\n",
            " |-- loan_amnt: integer (nullable = true)\n",
            " |-- loan_intent: string (nullable = true)\n",
            " |-- loan_int_rate: double (nullable = true)\n",
            " |-- loan_percent_income: double (nullable = true)\n",
            " |-- cb_person_cred_hist_length: integer (nullable = true)\n",
            " |-- previous_loan_defaults_on_file: string (nullable = true)\n",
            " |-- credit_score: integer (nullable = true)\n",
            "\n"
          ]
        }
      ]
    },
    {
      "cell_type": "code",
      "source": [
        "numeric_columns = ['person_age',\n",
        " 'person_income',\n",
        " 'person_emp_exp',\n",
        " 'loan_amnt',\n",
        " 'loan_int_rate',\n",
        " 'loan_percent_income',\n",
        " 'cb_person_cred_hist_length','credit_score']\n",
        "\n",
        "from pyspark.sql.functions import col\n",
        "\n",
        "for col_name in numeric_columns:\n",
        "    df = df.withColumn(col_name, col(col_name).cast(\"double\"))"
      ],
      "metadata": {
        "id": "LwkVy5Xx5S0k"
      },
      "execution_count": 7,
      "outputs": []
    },
    {
      "cell_type": "code",
      "source": [
        "df.printSchema()"
      ],
      "metadata": {
        "colab": {
          "base_uri": "https://localhost:8080/"
        },
        "id": "fFh95_wk9pmK",
        "outputId": "f01d0753-0445-4676-afd0-20dbed1271dc"
      },
      "execution_count": 8,
      "outputs": [
        {
          "output_type": "stream",
          "name": "stdout",
          "text": [
            "root\n",
            " |-- person_age: double (nullable = true)\n",
            " |-- person_gender: string (nullable = true)\n",
            " |-- person_education: string (nullable = true)\n",
            " |-- person_income: double (nullable = true)\n",
            " |-- person_emp_exp: double (nullable = true)\n",
            " |-- person_home_ownership: string (nullable = true)\n",
            " |-- loan_amnt: double (nullable = true)\n",
            " |-- loan_intent: string (nullable = true)\n",
            " |-- loan_int_rate: double (nullable = true)\n",
            " |-- loan_percent_income: double (nullable = true)\n",
            " |-- cb_person_cred_hist_length: double (nullable = true)\n",
            " |-- previous_loan_defaults_on_file: string (nullable = true)\n",
            " |-- credit_score: double (nullable = true)\n",
            "\n"
          ]
        }
      ]
    },
    {
      "cell_type": "code",
      "source": [
        "#checking missing values\n",
        "from pyspark.sql.functions import col, sum\n",
        "for column in df.columns:\n",
        "  missing_count = df.filter(col(column).isNull()).count()\n",
        "  print(f\"'{column}' '=' {missing_count}\")"
      ],
      "metadata": {
        "id": "X3ya0QES68-F",
        "colab": {
          "base_uri": "https://localhost:8080/"
        },
        "outputId": "3df0b3cb-1bd6-4feb-db6d-2c62fbc7eb45"
      },
      "execution_count": 9,
      "outputs": [
        {
          "output_type": "stream",
          "name": "stdout",
          "text": [
            "'person_age' '=' 0\n",
            "'person_gender' '=' 0\n",
            "'person_education' '=' 0\n",
            "'person_income' '=' 0\n",
            "'person_emp_exp' '=' 0\n",
            "'person_home_ownership' '=' 0\n",
            "'loan_amnt' '=' 0\n",
            "'loan_intent' '=' 0\n",
            "'loan_int_rate' '=' 0\n",
            "'loan_percent_income' '=' 0\n",
            "'cb_person_cred_hist_length' '=' 0\n",
            "'previous_loan_defaults_on_file' '=' 0\n",
            "'credit_score' '=' 0\n"
          ]
        }
      ]
    },
    {
      "cell_type": "code",
      "source": [
        "train, test = df.randomSplit([0.7, 0.3])"
      ],
      "metadata": {
        "id": "edaYvNsffAE9"
      },
      "execution_count": 10,
      "outputs": []
    },
    {
      "cell_type": "code",
      "source": [
        "numerical_features_lst = train.columns\n",
        "numerical_features_lst.remove('person_gender')\n",
        "numerical_features_lst.remove('person_education')\n",
        "numerical_features_lst.remove('person_home_ownership')\n",
        "numerical_features_lst.remove('loan_intent')\n",
        "numerical_features_lst.remove('previous_loan_defaults_on_file')\n",
        "numerical_features_lst.remove('credit_score')\n",
        "\n",
        "numerical_features_lst"
      ],
      "metadata": {
        "id": "SNTxInJfHhHa",
        "colab": {
          "base_uri": "https://localhost:8080/"
        },
        "outputId": "806ed46e-2cf9-4cc9-b79d-53962faad157"
      },
      "execution_count": 11,
      "outputs": [
        {
          "output_type": "execute_result",
          "data": {
            "text/plain": [
              "['person_age',\n",
              " 'person_income',\n",
              " 'person_emp_exp',\n",
              " 'loan_amnt',\n",
              " 'loan_int_rate',\n",
              " 'loan_percent_income',\n",
              " 'cb_person_cred_hist_length']"
            ]
          },
          "metadata": {},
          "execution_count": 11
        }
      ]
    },
    {
      "cell_type": "code",
      "source": [
        "from pyspark.ml.feature import VectorAssembler\n",
        "\n",
        "numerical_vector_assembler = VectorAssembler(inputCols=numerical_features_lst,outputCol='numerical_feature_vector')\n",
        "\n",
        "train = numerical_vector_assembler.transform(train)\n",
        "test = numerical_vector_assembler.transform(test)\n",
        "\n",
        "train.show(2)"
      ],
      "metadata": {
        "colab": {
          "base_uri": "https://localhost:8080/"
        },
        "id": "9iGg32w8gZ9k",
        "outputId": "84b5af6d-a180-440f-8606-8743cbfb64d0"
      },
      "execution_count": 12,
      "outputs": [
        {
          "output_type": "stream",
          "name": "stdout",
          "text": [
            "+----------+-------------+----------------+-------------+--------------+---------------------+---------+-----------------+-------------+-------------------+--------------------------+------------------------------+------------+------------------------+\n",
            "|person_age|person_gender|person_education|person_income|person_emp_exp|person_home_ownership|loan_amnt|      loan_intent|loan_int_rate|loan_percent_income|cb_person_cred_hist_length|previous_loan_defaults_on_file|credit_score|numerical_feature_vector|\n",
            "+----------+-------------+----------------+-------------+--------------+---------------------+---------+-----------------+-------------+-------------------+--------------------------+------------------------------+------------+------------------------+\n",
            "|      20.0|       female|       Associate|      42674.0|           0.0|                 RENT|   7000.0|          MEDICAL|        13.61|               0.16|                       2.0|                           Yes|       636.0|    [20.0,42674.0,0.0...|\n",
            "|      20.0|       female|       Associate|     104214.0|           0.0|             MORTGAGE|  12000.0|DEBTCONSOLIDATION|         8.49|               0.12|                       2.0|                           Yes|       641.0|    [20.0,104214.0,0....|\n",
            "+----------+-------------+----------------+-------------+--------------+---------------------+---------+-----------------+-------------+-------------------+--------------------------+------------------------------+------------+------------------------+\n",
            "only showing top 2 rows\n",
            "\n"
          ]
        }
      ]
    },
    {
      "cell_type": "code",
      "source": [
        "from pyspark.ml.feature import StandardScaler\n",
        "\n",
        "scaler = StandardScaler(inputCol='numerical_feature_vector',\n",
        "                        outputCol='scaled_numerical_feature_vector',\n",
        "                        withStd=True, withMean=True)\n",
        "\n",
        "scaler = scaler.fit(train)\n",
        "\n",
        "train = scaler.transform(train)\n",
        "test = scaler.transform(test)\n",
        "\n",
        "train.show(3)"
      ],
      "metadata": {
        "colab": {
          "base_uri": "https://localhost:8080/"
        },
        "id": "laHAiPM5gwsi",
        "outputId": "626d7ebd-2b2b-4ff6-81c6-9a0549030da4"
      },
      "execution_count": 13,
      "outputs": [
        {
          "output_type": "stream",
          "name": "stdout",
          "text": [
            "+----------+-------------+----------------+-------------+--------------+---------------------+---------+-----------------+-------------+-------------------+--------------------------+------------------------------+------------+------------------------+-------------------------------+\n",
            "|person_age|person_gender|person_education|person_income|person_emp_exp|person_home_ownership|loan_amnt|      loan_intent|loan_int_rate|loan_percent_income|cb_person_cred_hist_length|previous_loan_defaults_on_file|credit_score|numerical_feature_vector|scaled_numerical_feature_vector|\n",
            "+----------+-------------+----------------+-------------+--------------+---------------------+---------+-----------------+-------------+-------------------+--------------------------+------------------------------+------------+------------------------+-------------------------------+\n",
            "|      20.0|       female|       Associate|      42674.0|           0.0|                 RENT|   7000.0|          MEDICAL|        13.61|               0.16|                       2.0|                           Yes|       636.0|    [20.0,42674.0,0.0...|           [-1.2930290659681...|\n",
            "|      20.0|       female|       Associate|     104214.0|           0.0|             MORTGAGE|  12000.0|DEBTCONSOLIDATION|         8.49|               0.12|                       2.0|                           Yes|       641.0|    [20.0,104214.0,0....|           [-1.2930290659681...|\n",
            "|      20.0|       female|     High School|      51391.0|           0.0|                 RENT|   6500.0|          VENTURE|        11.71|               0.13|                       2.0|                            No|       630.0|    [20.0,51391.0,0.0...|           [-1.2930290659681...|\n",
            "+----------+-------------+----------------+-------------+--------------+---------------------+---------+-----------------+-------------+-------------------+--------------------------+------------------------------+------------+------------------------+-------------------------------+\n",
            "only showing top 3 rows\n",
            "\n"
          ]
        }
      ]
    },
    {
      "cell_type": "code",
      "source": [
        "categorical_features_lst = train.columns\n",
        "categorical_features_lst.remove('person_age')\n",
        "categorical_features_lst.remove('person_income')\n",
        "categorical_features_lst.remove('loan_amnt')\n",
        "categorical_features_lst.remove('loan_int_rate')\n",
        "categorical_features_lst.remove('loan_percent_income')\n",
        "categorical_features_lst.remove('person_emp_exp')\n",
        "categorical_features_lst.remove('scaled_numerical_feature_vector')\n",
        "categorical_features_lst.remove('numerical_feature_vector')\n",
        "categorical_features_lst.remove('credit_score')\n",
        "\n",
        "\n",
        "categorical_features_lst"
      ],
      "metadata": {
        "colab": {
          "base_uri": "https://localhost:8080/"
        },
        "id": "8czHrzp5qT3e",
        "outputId": "cebc8dfb-34a1-4d88-e5f8-35213eb83f43"
      },
      "execution_count": 14,
      "outputs": [
        {
          "output_type": "execute_result",
          "data": {
            "text/plain": [
              "['person_gender',\n",
              " 'person_education',\n",
              " 'person_home_ownership',\n",
              " 'loan_intent',\n",
              " 'cb_person_cred_hist_length',\n",
              " 'previous_loan_defaults_on_file']"
            ]
          },
          "metadata": {},
          "execution_count": 14
        }
      ]
    },
    {
      "cell_type": "code",
      "source": [
        "from pyspark.ml.feature import StringIndexer, OneHotEncoder, VectorAssembler\n",
        "\n",
        "for feature in categorical_features_lst:\n",
        "    indexer = StringIndexer(inputCol=feature, outputCol=f\"{feature}_index\")\n",
        "    indexer = indexer.fit(train)\n",
        "    train = indexer.transform(train)\n",
        "    test = indexer.transform(test)\n",
        "\n",
        "one_hot_encoded_cols = []\n",
        "for feature in categorical_features_lst:\n",
        "    one_hot_encoder = OneHotEncoder(inputCol=f\"{feature}_index\", outputCol=f\"{feature}_one_hot\")\n",
        "    one_hot_encoder = one_hot_encoder.fit(train)\n",
        "    train = one_hot_encoder.transform(train)\n",
        "    test = one_hot_encoder.transform(test)\n",
        "    one_hot_encoded_cols.append(f\"{feature}_one_hot\")\n",
        "\n",
        "assembler = VectorAssembler(inputCols=one_hot_encoded_cols, outputCol=\"categorical_features_vector\")\n",
        "train = assembler.transform(train)\n",
        "test = assembler.transform(test)\n",
        "\n",
        "train.show(3)"
      ],
      "metadata": {
        "colab": {
          "base_uri": "https://localhost:8080/"
        },
        "id": "-OhP4Lv01MN8",
        "outputId": "853e27b3-947f-4036-ed90-293ee8f1c477"
      },
      "execution_count": 15,
      "outputs": [
        {
          "output_type": "stream",
          "name": "stdout",
          "text": [
            "+----------+-------------+----------------+-------------+--------------+---------------------+---------+-----------------+-------------+-------------------+--------------------------+------------------------------+------------+------------------------+-------------------------------+-------------------+----------------------+---------------------------+-----------------+--------------------------------+------------------------------------+---------------------+------------------------+-----------------------------+-------------------+----------------------------------+--------------------------------------+---------------------------+\n",
            "|person_age|person_gender|person_education|person_income|person_emp_exp|person_home_ownership|loan_amnt|      loan_intent|loan_int_rate|loan_percent_income|cb_person_cred_hist_length|previous_loan_defaults_on_file|credit_score|numerical_feature_vector|scaled_numerical_feature_vector|person_gender_index|person_education_index|person_home_ownership_index|loan_intent_index|cb_person_cred_hist_length_index|previous_loan_defaults_on_file_index|person_gender_one_hot|person_education_one_hot|person_home_ownership_one_hot|loan_intent_one_hot|cb_person_cred_hist_length_one_hot|previous_loan_defaults_on_file_one_hot|categorical_features_vector|\n",
            "+----------+-------------+----------------+-------------+--------------+---------------------+---------+-----------------+-------------+-------------------+--------------------------+------------------------------+------------+------------------------+-------------------------------+-------------------+----------------------+---------------------------+-----------------+--------------------------------+------------------------------------+---------------------+------------------------+-----------------------------+-------------------+----------------------------------+--------------------------------------+---------------------------+\n",
            "|      20.0|       female|       Associate|      42674.0|           0.0|                 RENT|   7000.0|          MEDICAL|        13.61|               0.16|                       2.0|                           Yes|       636.0|    [20.0,42674.0,0.0...|           [-1.2930290659681...|                1.0|                   2.0|                        0.0|              1.0|                             2.0|                                 0.0|            (1,[],[])|           (4,[2],[1.0])|                (3,[0],[1.0])|      (5,[1],[1.0])|                    (28,[2],[1.0])|                         (1,[0],[1.0])|       (42,[3,5,9,15,41]...|\n",
            "|      20.0|       female|       Associate|     104214.0|           0.0|             MORTGAGE|  12000.0|DEBTCONSOLIDATION|         8.49|               0.12|                       2.0|                           Yes|       641.0|    [20.0,104214.0,0....|           [-1.2930290659681...|                1.0|                   2.0|                        1.0|              4.0|                             2.0|                                 0.0|            (1,[],[])|           (4,[2],[1.0])|                (3,[1],[1.0])|      (5,[4],[1.0])|                    (28,[2],[1.0])|                         (1,[0],[1.0])|       (42,[3,6,12,15,41...|\n",
            "|      20.0|       female|     High School|      51391.0|           0.0|                 RENT|   6500.0|          VENTURE|        11.71|               0.13|                       2.0|                            No|       630.0|    [20.0,51391.0,0.0...|           [-1.2930290659681...|                1.0|                   1.0|                        0.0|              2.0|                             2.0|                                 1.0|            (1,[],[])|           (4,[1],[1.0])|                (3,[0],[1.0])|      (5,[2],[1.0])|                    (28,[2],[1.0])|                             (1,[],[])|       (42,[2,5,10,15],[...|\n",
            "+----------+-------------+----------------+-------------+--------------+---------------------+---------+-----------------+-------------+-------------------+--------------------------+------------------------------+------------+------------------------+-------------------------------+-------------------+----------------------+---------------------------+-----------------+--------------------------------+------------------------------------+---------------------+------------------------+-----------------------------+-------------------+----------------------------------+--------------------------------------+---------------------------+\n",
            "only showing top 3 rows\n",
            "\n"
          ]
        }
      ]
    },
    {
      "cell_type": "code",
      "source": [
        "assembler = VectorAssembler(inputCols=['scaled_numerical_feature_vector',\n",
        "                                       'categorical_features_vector'],\n",
        "                            outputCol='final_feature_vector')\n",
        "\n",
        "train = assembler.transform(train)\n",
        "test = assembler.transform(test)"
      ],
      "metadata": {
        "id": "_a6lSSqD3RSS"
      },
      "execution_count": 16,
      "outputs": []
    },
    {
      "cell_type": "markdown",
      "source": [
        "#PCA"
      ],
      "metadata": {
        "id": "nwNifSOFnEST"
      }
    },
    {
      "cell_type": "markdown",
      "source": [
        "#Regression"
      ],
      "metadata": {
        "id": "Bj-RAJomnGPf"
      }
    },
    {
      "cell_type": "code",
      "source": [
        "#linear regression\n",
        "from pyspark.ml.regression import LinearRegression\n",
        "\n",
        "lr = LinearRegression(featuresCol='scaled_numerical_feature_vector',\n",
        "                      labelCol='credit_score')\n",
        "lr = lr.fit(train)\n",
        "lr\n",
        "\n",
        "pred_train_df = lr.transform(train).withColumnRenamed('prediction',\n",
        "                                                      'predicted_credit_score')\n",
        "pred_train_df.show(5)\n",
        "\n",
        "pred_test_df = lr.transform(test).withColumnRenamed('prediction', 'predicted_credit_score')\n",
        "\n",
        "pred_test_df.show(5)"
      ],
      "metadata": {
        "colab": {
          "base_uri": "https://localhost:8080/"
        },
        "id": "gBfNZ9TT342i",
        "outputId": "8efb6973-2f92-4332-9bb5-e053d50d373a"
      },
      "execution_count": 17,
      "outputs": [
        {
          "output_type": "stream",
          "name": "stdout",
          "text": [
            "+----------+-------------+----------------+-------------+--------------+---------------------+---------+-----------------+-------------+-------------------+--------------------------+------------------------------+------------+------------------------+-------------------------------+-------------------+----------------------+---------------------------+-----------------+--------------------------------+------------------------------------+---------------------+------------------------+-----------------------------+-------------------+----------------------------------+--------------------------------------+---------------------------+--------------------+----------------------+\n",
            "|person_age|person_gender|person_education|person_income|person_emp_exp|person_home_ownership|loan_amnt|      loan_intent|loan_int_rate|loan_percent_income|cb_person_cred_hist_length|previous_loan_defaults_on_file|credit_score|numerical_feature_vector|scaled_numerical_feature_vector|person_gender_index|person_education_index|person_home_ownership_index|loan_intent_index|cb_person_cred_hist_length_index|previous_loan_defaults_on_file_index|person_gender_one_hot|person_education_one_hot|person_home_ownership_one_hot|loan_intent_one_hot|cb_person_cred_hist_length_one_hot|previous_loan_defaults_on_file_one_hot|categorical_features_vector|final_feature_vector|predicted_credit_score|\n",
            "+----------+-------------+----------------+-------------+--------------+---------------------+---------+-----------------+-------------+-------------------+--------------------------+------------------------------+------------+------------------------+-------------------------------+-------------------+----------------------+---------------------------+-----------------+--------------------------------+------------------------------------+---------------------+------------------------+-----------------------------+-------------------+----------------------------------+--------------------------------------+---------------------------+--------------------+----------------------+\n",
            "|      20.0|       female|       Associate|      42674.0|           0.0|                 RENT|   7000.0|          MEDICAL|        13.61|               0.16|                       2.0|                           Yes|       636.0|    [20.0,42674.0,0.0...|           [-1.2930290659681...|                1.0|                   2.0|                        0.0|              1.0|                             2.0|                                 0.0|            (1,[],[])|           (4,[2],[1.0])|                (3,[0],[1.0])|      (5,[1],[1.0])|                    (28,[2],[1.0])|                         (1,[0],[1.0])|       (42,[3,5,9,15,41]...|(49,[0,1,2,3,4,5,...|     624.1443210126813|\n",
            "|      20.0|       female|       Associate|     104214.0|           0.0|             MORTGAGE|  12000.0|DEBTCONSOLIDATION|         8.49|               0.12|                       2.0|                           Yes|       641.0|    [20.0,104214.0,0....|           [-1.2930290659681...|                1.0|                   2.0|                        1.0|              4.0|                             2.0|                                 0.0|            (1,[],[])|           (4,[2],[1.0])|                (3,[1],[1.0])|      (5,[4],[1.0])|                    (28,[2],[1.0])|                         (1,[0],[1.0])|       (42,[3,6,12,15,41...|(49,[0,1,2,3,4,5,...|     623.6709038648236|\n",
            "|      20.0|       female|     High School|      51391.0|           0.0|                 RENT|   6500.0|          VENTURE|        11.71|               0.13|                       2.0|                            No|       630.0|    [20.0,51391.0,0.0...|           [-1.2930290659681...|                1.0|                   1.0|                        0.0|              2.0|                             2.0|                                 1.0|            (1,[],[])|           (4,[1],[1.0])|                (3,[0],[1.0])|      (5,[2],[1.0])|                    (28,[2],[1.0])|                             (1,[],[])|       (42,[2,5,10,15],[...|(49,[0,1,2,3,4,5,...|     624.0116720451133|\n",
            "|      20.0|       female|          Master|      40239.0|           0.0|             MORTGAGE|   6000.0|         PERSONAL|        14.61|               0.15|                       4.0|                            No|       501.0|    [20.0,40239.0,0.0...|           [-1.2930290659681...|                1.0|                   3.0|                        1.0|              3.0|                             0.0|                                 1.0|            (1,[],[])|           (4,[3],[1.0])|                (3,[1],[1.0])|      (5,[3],[1.0])|                    (28,[0],[1.0])|                             (1,[],[])|       (42,[4,6,11,13],[...|(49,[0,1,2,3,4,5,...|     624.3448580116248|\n",
            "|      20.0|       female|          Master|     118478.0|           0.0|             MORTGAGE|  24250.0|        EDUCATION|        11.01|                0.2|                       4.0|                            No|       594.0|    [20.0,118478.0,0....|           [-1.2930290659681...|                1.0|                   3.0|                        1.0|              0.0|                             0.0|                                 1.0|            (1,[],[])|           (4,[3],[1.0])|                (3,[1],[1.0])|      (5,[0],[1.0])|                    (28,[0],[1.0])|                             (1,[],[])|       (42,[4,6,8,13],[1...|(49,[0,1,2,3,4,5,...|     624.0074710846346|\n",
            "+----------+-------------+----------------+-------------+--------------+---------------------+---------+-----------------+-------------+-------------------+--------------------------+------------------------------+------------+------------------------+-------------------------------+-------------------+----------------------+---------------------------+-----------------+--------------------------------+------------------------------------+---------------------+------------------------+-----------------------------+-------------------+----------------------------------+--------------------------------------+---------------------------+--------------------+----------------------+\n",
            "only showing top 5 rows\n",
            "\n",
            "+----------+-------------+----------------+-------------+--------------+---------------------+---------+-----------+-------------+-------------------+--------------------------+------------------------------+------------+------------------------+-------------------------------+-------------------+----------------------+---------------------------+-----------------+--------------------------------+------------------------------------+---------------------+------------------------+-----------------------------+-------------------+----------------------------------+--------------------------------------+---------------------------+--------------------+----------------------+\n",
            "|person_age|person_gender|person_education|person_income|person_emp_exp|person_home_ownership|loan_amnt|loan_intent|loan_int_rate|loan_percent_income|cb_person_cred_hist_length|previous_loan_defaults_on_file|credit_score|numerical_feature_vector|scaled_numerical_feature_vector|person_gender_index|person_education_index|person_home_ownership_index|loan_intent_index|cb_person_cred_hist_length_index|previous_loan_defaults_on_file_index|person_gender_one_hot|person_education_one_hot|person_home_ownership_one_hot|loan_intent_one_hot|cb_person_cred_hist_length_one_hot|previous_loan_defaults_on_file_one_hot|categorical_features_vector|final_feature_vector|predicted_credit_score|\n",
            "+----------+-------------+----------------+-------------+--------------+---------------------+---------+-----------+-------------+-------------------+--------------------------+------------------------------+------------+------------------------+-------------------------------+-------------------+----------------------+---------------------------+-----------------+--------------------------------+------------------------------------+---------------------+------------------------+-----------------------------+-------------------+----------------------------------+--------------------------------------+---------------------------+--------------------+----------------------+\n",
            "|      20.0|       female|     High School|     162939.0|           0.0|             MORTGAGE|  15000.0|    VENTURE|        15.96|               0.09|                       2.0|                           Yes|       640.0|    [20.0,162939.0,0....|           [-1.2930290659681...|                1.0|                   1.0|                        1.0|              2.0|                             2.0|                                 0.0|            (1,[],[])|           (4,[1],[1.0])|                (3,[1],[1.0])|      (5,[2],[1.0])|                    (28,[2],[1.0])|                         (1,[0],[1.0])|       (42,[2,6,10,15,41...|(49,[0,1,2,3,4,5,...|     625.0947047548378|\n",
            "|      20.0|       female|     High School|     226402.0|           0.0|             MORTGAGE|   2000.0|    VENTURE|         8.59|               0.01|                       4.0|                           Yes|       531.0|    [20.0,226402.0,0....|           [-1.2930290659681...|                1.0|                   1.0|                        1.0|              2.0|                             0.0|                                 0.0|            (1,[],[])|           (4,[1],[1.0])|                (3,[1],[1.0])|      (5,[2],[1.0])|                    (28,[0],[1.0])|                         (1,[0],[1.0])|       (42,[2,6,10,13,41...|(49,[0,1,2,3,4,5,...|     623.7314990230202|\n",
            "|      20.0|       female|     High School|     226710.0|           0.0|                  OWN|   2000.0|    VENTURE|         8.59|               0.01|                       4.0|                           Yes|       619.0|    [20.0,226710.0,0....|           [-1.2930290659681...|                1.0|                   1.0|                        2.0|              2.0|                             0.0|                                 0.0|            (1,[],[])|           (4,[1],[1.0])|                (3,[2],[1.0])|      (5,[2],[1.0])|                    (28,[0],[1.0])|                         (1,[0],[1.0])|       (42,[2,7,10,13,41...|(49,[0,1,2,3,4,5,...|     623.7306874922591|\n",
            "|      20.0|         male|        Bachelor|      93288.0|           0.0|             MORTGAGE|   6000.0|    VENTURE|          8.0|               0.06|                       2.0|                           Yes|       699.0|    [20.0,93288.0,0.0...|           [-1.2930290659681...|                0.0|                   0.0|                        1.0|              2.0|                             2.0|                                 0.0|        (1,[0],[1.0])|           (4,[0],[1.0])|                (3,[1],[1.0])|      (5,[2],[1.0])|                    (28,[2],[1.0])|                         (1,[0],[1.0])|       (42,[0,1,6,10,15,...|(49,[0,1,2,3,4,5,...|     623.7936754227798|\n",
            "|      20.0|         male|     High School|      93599.0|           0.0|             MORTGAGE|  24250.0|  EDUCATION|        11.36|               0.26|                       2.0|                           Yes|       629.0|    [20.0,93599.0,0.0...|           [-1.2930290659681...|                0.0|                   1.0|                        1.0|              0.0|                             2.0|                                 0.0|        (1,[0],[1.0])|           (4,[1],[1.0])|                (3,[1],[1.0])|      (5,[0],[1.0])|                    (28,[2],[1.0])|                         (1,[0],[1.0])|       (42,[0,2,6,8,15,4...|(49,[0,1,2,3,4,5,...|     623.6819855278773|\n",
            "+----------+-------------+----------------+-------------+--------------+---------------------+---------+-----------+-------------+-------------------+--------------------------+------------------------------+------------+------------------------+-------------------------------+-------------------+----------------------+---------------------------+-----------------+--------------------------------+------------------------------------+---------------------+------------------------+-----------------------------+-------------------+----------------------------------+--------------------------------------+---------------------------+--------------------+----------------------+\n",
            "only showing top 5 rows\n",
            "\n"
          ]
        }
      ]
    },
    {
      "cell_type": "code",
      "source": [
        "#linear regression metrics\n",
        "predictions_and_actuals = pred_test_df[['predicted_credit_score',\n",
        "                                        'credit_score']]\n",
        "\n",
        "predictions_and_actuals_rdd = predictions_and_actuals.rdd\n",
        "predictions_and_actuals_rdd = predictions_and_actuals_rdd.map(tuple)\n",
        "\n",
        "\n",
        "from pyspark.mllib.evaluation import RegressionMetrics\n",
        "\n",
        "metrics = RegressionMetrics(predictions_and_actuals_rdd)\n",
        "\n",
        "s = '''\n",
        "Root Mean Squared Error: {0}\n",
        "Mean Absolute Error:     {1}\n",
        "'''.format(metrics.rootMeanSquaredError,\n",
        "           metrics.meanAbsoluteError,\n",
        "           )\n",
        "\n",
        "print(s)"
      ],
      "metadata": {
        "colab": {
          "base_uri": "https://localhost:8080/"
        },
        "id": "iWhoytVY4OJk",
        "outputId": "1ff32a60-301f-4cd3-ad38-c3873a45ab3d"
      },
      "execution_count": 19,
      "outputs": [
        {
          "output_type": "stream",
          "name": "stderr",
          "text": [
            "/usr/local/lib/python3.10/dist-packages/pyspark/sql/context.py:158: FutureWarning: Deprecated in 3.0.0. Use SparkSession.builder.getOrCreate() instead.\n",
            "  warnings.warn(\n"
          ]
        },
        {
          "output_type": "stream",
          "name": "stdout",
          "text": [
            "\n",
            "Root Mean Squared Error: 49.383455272933666\n",
            "Mean Absolute Error:     39.591785021511505\n",
            "\n"
          ]
        }
      ]
    },
    {
      "cell_type": "markdown",
      "source": [
        "#Classification"
      ],
      "metadata": {
        "id": "KgkGZDLxnIx3"
      }
    },
    {
      "cell_type": "markdown",
      "source": [
        "Classification before PCA"
      ],
      "metadata": {
        "id": "qlL6YN6ArPLA"
      }
    },
    {
      "cell_type": "markdown",
      "source": [
        "Classification after PCA"
      ],
      "metadata": {
        "id": "ZBH-9dBn63gc"
      }
    },
    {
      "cell_type": "markdown",
      "source": [
        "#Clustering"
      ],
      "metadata": {
        "id": "bg0EmJ-vnLFB"
      }
    }
  ]
}