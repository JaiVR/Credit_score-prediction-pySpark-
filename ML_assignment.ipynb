{
  "nbformat": 4,
  "nbformat_minor": 0,
  "metadata": {
    "colab": {
      "provenance": [],
      "authorship_tag": "ABX9TyNdciJpHvdIOGqrkEcZitLX",
      "include_colab_link": true
    },
    "kernelspec": {
      "name": "python3",
      "display_name": "Python 3"
    },
    "language_info": {
      "name": "python"
    }
  },
  "cells": [
    {
      "cell_type": "markdown",
      "metadata": {
        "id": "view-in-github",
        "colab_type": "text"
      },
      "source": [
        "<a href=\"https://colab.research.google.com/github/JaiVR/Spotify_songs_Analysis/blob/main/ML_assignment.ipynb\" target=\"_parent\"><img src=\"https://colab.research.google.com/assets/colab-badge.svg\" alt=\"Open In Colab\"/></a>"
      ]
    },
    {
      "cell_type": "code",
      "source": [
        "from pyspark.sql import SparkSession\n",
        "\n",
        "# Initialize a Spark session\n",
        "spark = SparkSession.builder.appName(\"MySparkApp\").getOrCreate()\n",
        "\n",
        "# Check the Spark version\n",
        "print(f\"Spark Version: {spark.version}\")"
      ],
      "metadata": {
        "colab": {
          "base_uri": "https://localhost:8080/"
        },
        "id": "hw7FYaFflyiz",
        "outputId": "9e06b87c-b380-41b3-81c7-1cbda0b65ad4"
      },
      "execution_count": 3,
      "outputs": [
        {
          "output_type": "stream",
          "name": "stdout",
          "text": [
            "Spark Version: 3.5.3\n"
          ]
        }
      ]
    },
    {
      "cell_type": "code",
      "source": [
        "df = spark.read.csv(\"spotify_songs_dataset.csv\", header=True, inferSchema=True)\n",
        "df.show()"
      ],
      "metadata": {
        "colab": {
          "base_uri": "https://localhost:8080/"
        },
        "id": "3kn7XOu-lVYB",
        "outputId": "1333618f-eb39-44dd-8cfe-e0866bcffa5e"
      },
      "execution_count": 5,
      "outputs": [
        {
          "output_type": "stream",
          "name": "stdout",
          "text": [
            "+-------+--------------------+------------------+-------------------+----------+------------+--------+----------+--------+--------+----------------+----------------+-----------------+-----------------+-------------------+\n",
            "|song_id|          song_title|            artist|              album|     genre|release_date|duration|popularity|  stream|language|explicit_content|           label|         composer|         producer|      collaboration|\n",
            "+-------+--------------------+------------------+-------------------+----------+------------+--------+----------+--------+--------+----------------+----------------+-----------------+-----------------+-------------------+\n",
            "| SP0001|Space executive s...|      Sydney Clark|              What.|Electronic|  1997-11-08|   282.0|        42|35055874| English|             Yes|         Def Jam|     Amy Hatfield|   Jeffrey Weaver|               NULL|\n",
            "| SP0002|Price last painting.| Connor Peters DDS|   Nature politics.|Electronic|  2015-05-10|   127.0|        50| 9249527| English|             Yes| Universal Music|    Jason Gregory|    Kenneth White|               NULL|\n",
            "| SP0003|              Piece.|        Anna Keith|             Visit.|       Pop|  2024-07-08|    NULL|        10|76669110| English|             Yes| Universal Music|     Rachel Lopez|     Jason Barnes|               NULL|\n",
            "| SP0004|Power industry your.|   Zachary Simpson|  Behavior evening.|   Hip-Hop|  2022-08-15|   214.0|        86|34732016| English|              No|      Sony Music|        Thomas Li|Mrs. Becky Palmer|               NULL|\n",
            "| SP0005| Food animal second.| Christopher Mcgee|             Front.|       Pop|  2023-03-05|   273.0|        63|96649372| English|             Yes|         Def Jam|      Adam Wagner|    Beverly Baker|               NULL|\n",
            "| SP0006|   Whatever Mr send.|       Nathan King|Various experience.|      Folk|  2015-11-29|   312.0|        74|82613530|    NULL|             Yes|           Indie|       Brad Hicks|       John Brown|               NULL|\n",
            "| SP0007|           Each leg.|     Joshua Santos|         Determine.|   Hip-Hop|  1996-03-16|   336.0|        49|88337653|Japanese|              No|         Def Jam|     Henry Willis|    William Smith|               NULL|\n",
            "| SP0008|  Person then enjoy.|     Leonard Brown|         Sense lot.|   Hip-Hop|  2017-08-14|   237.0|         9|95988275| English|              No|Atlantic Records|     Keith Horton|  Justin Gonzalez|               NULL|\n",
            "| SP0009|               Poor.|      William Ford|      Organization.|       Pop|  2002-02-28|    NULL|        74|67287444| Spanish|              No|    Warner Music|       James Roth|    Jeffrey Perry|               NULL|\n",
            "| SP0010|       East husband.|     Susan Harrell|         List item.|Electronic|  2016-12-06|   216.0|         2|48726791| English|             Yes|    Warner Music|     Maria Castro|     Justin Grant|               NULL|\n",
            "| SP0011|Mother building w...|     Shannon Moore|        Process if.|Electronic|  2002-11-12|   161.0|        81|77988216| English|              No| Universal Music|Barbara Castaneda| Michael Williams|     Michael Ingram|\n",
            "| SP0012|Pattern personal ...|       Kenneth Lee|   Police customer.|       R&B|  2003-08-01|   345.0|        88|32428546| English|             Yes|         Def Jam|  Lauren Martinez|  Timothy Shelton|               NULL|\n",
            "| SP0013|Possible whatever...|     George Thomas|         We summer.|      Folk|  2008-09-05|   131.0|        73|73155234| English|              No|         Def Jam|   Brian Wise Jr.|     Susan Waters|               NULL|\n",
            "| SP0014|Floor someone min...|Christopher Torres|       Few control.|       Pop|  2008-06-04|    NULL|        62| 7384310| English|             Yes| Universal Music|    Bruce Bonilla|    Brandon Smith|               NULL|\n",
            "| SP0015|Various director ...|   Richard Edwards|            Doctor.|   Hip-Hop|  2004-06-01|   237.0|        29|40215039| English|              No|Atlantic Records|   Nicholas Reese|  Michelle Gordon|               NULL|\n",
            "| SP0016|Season available ...|        Diane Hall|       Project and.|      Jazz|  2011-02-05|   231.0|        83|82785276| English|             Yes|         Def Jam|    Melissa Clark|   Brittany Smith|               NULL|\n",
            "| SP0017|          Along new.|   Victoria Morris|        With small.|Electronic|  2009-06-30|   230.0|        58|21609743| English|             Yes| Universal Music|    Daniel George| Daniel Robertson|               NULL|\n",
            "| SP0018|Large stock buy oil.|    Holly Mitchell| Management artist.|Electronic|  2010-03-24|   280.0|        85|90028790| English|             Yes|      Sony Music| Kristin Martinez|  Theresa Calhoun|Christopher Ramirez|\n",
            "| SP0019|Computer professo...|  Rachel Hernandez|       Major ahead.| Classical|  1996-07-06|   129.0|        57|81831229| Spanish|             Yes|    Warner Music|Jessica Donaldson|     David Brooks|               NULL|\n",
            "| SP0020|    Site difference.|     Natalie Silva|        Exist game.|       Pop|  2010-06-14|   314.0|        88|30447360| English|              No|         Def Jam|    Michael Jones|   Bryan Shepherd|               NULL|\n",
            "+-------+--------------------+------------------+-------------------+----------+------------+--------+----------+--------+--------+----------------+----------------+-----------------+-----------------+-------------------+\n",
            "only showing top 20 rows\n",
            "\n"
          ]
        }
      ]
    },
    {
      "cell_type": "markdown",
      "source": [
        "about the dataset--> here we can either predict the popularity or number of streams"
      ],
      "metadata": {
        "id": "eimD8jKKoRKs"
      }
    },
    {
      "cell_type": "markdown",
      "source": [
        "#Preprocessing"
      ],
      "metadata": {
        "id": "e2QFXWY9nTC9"
      }
    },
    {
      "cell_type": "code",
      "source": [],
      "metadata": {
        "id": "W5i2pmF0nWV0"
      },
      "execution_count": null,
      "outputs": []
    },
    {
      "cell_type": "markdown",
      "source": [
        "#PCA"
      ],
      "metadata": {
        "id": "nwNifSOFnEST"
      }
    },
    {
      "cell_type": "markdown",
      "source": [
        "#Regression"
      ],
      "metadata": {
        "id": "Bj-RAJomnGPf"
      }
    },
    {
      "cell_type": "markdown",
      "source": [
        "#Classification"
      ],
      "metadata": {
        "id": "KgkGZDLxnIx3"
      }
    },
    {
      "cell_type": "markdown",
      "source": [
        "#Clustering"
      ],
      "metadata": {
        "id": "bg0EmJ-vnLFB"
      }
    }
  ]
}